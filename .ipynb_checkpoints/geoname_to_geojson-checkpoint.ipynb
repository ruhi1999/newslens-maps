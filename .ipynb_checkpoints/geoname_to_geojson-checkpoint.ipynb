{
 "cells": [
  {
   "cell_type": "code",
   "execution_count": 2,
   "metadata": {},
   "outputs": [
    {
     "ename": "ModuleNotFoundError",
     "evalue": "No module named 'gdal'",
     "output_type": "error",
     "traceback": [
      "\u001b[0;31m---------------------------------------------------------------------------\u001b[0m",
      "\u001b[0;31mModuleNotFoundError\u001b[0m                       Traceback (most recent call last)",
      "\u001b[0;32m<ipython-input-2-bd256d19062d>\u001b[0m in \u001b[0;36m<module>\u001b[0;34m()\u001b[0m\n\u001b[1;32m     20\u001b[0m \u001b[0;32mimport\u001b[0m \u001b[0murllib\u001b[0m\u001b[0;34m.\u001b[0m\u001b[0mrequest\u001b[0m\u001b[0;34m\u001b[0m\u001b[0m\n\u001b[1;32m     21\u001b[0m \u001b[0;32mimport\u001b[0m \u001b[0mgeotag\u001b[0m\u001b[0;34m\u001b[0m\u001b[0m\n\u001b[0;32m---> 22\u001b[0;31m \u001b[0;32mimport\u001b[0m \u001b[0mgdal\u001b[0m\u001b[0;34m\u001b[0m\u001b[0m\n\u001b[0m",
      "\u001b[0;31mModuleNotFoundError\u001b[0m: No module named 'gdal'"
     ]
    }
   ],
   "source": [
    "# –\tgeoJSON converter: github.com/wavded/ogre using KMZ\n",
    "# –\tmaps data: gadm.org/maps.html\n",
    "# –\tscript: take geoname id, turn into geojson file\n",
    "# –\tdownload file for each country based on file url\n",
    "# –\tuse search api to closely match\n",
    "\n",
    "# {\n",
    "#    \"story_type\": \"World Affairs\",\n",
    "#   \"story_id\": 186150,\n",
    "#   \"story_name\": \"Venezuela opposition leader\",\n",
    "#   \"geotext\": \"Venezuela\",\n",
    "#    \"geotag\": \"VE\"\n",
    "#  },\n",
    "\n",
    "import json\n",
    "import folium\n",
    "import pandas\n",
    "import requests\n",
    "from bs4 import BeautifulSoup\n",
    "import urllib.request\n",
    "import geotag\n",
    "import gdal"
   ]
  },
  {
   "cell_type": "code",
   "execution_count": 25,
   "metadata": {},
   "outputs": [],
   "source": [
    "place_file = open(\"initial-10/places_23000.json\")\n",
    "places = json.load(place_file)\n",
    "\n",
    "# soup.\n",
    "# https://gadm.org/maps.html\n",
    "\n",
    "r = requests.get(\"https://gadm.org/maps.html\")\n",
    "htmlcontent = BeautifulSoup(r.content, \"html.parser\")\n",
    "countries = []\n",
    "country_containers = htmlcontent.find('div', class_=\"container-fluid main-container\").p.small\n",
    "# print(country_containers)\n",
    "\n",
    "countries = []\n",
    "count = 'A'\n",
    "\n",
    "for a_tag in country_containers.find_all('a', href=True):\n",
    "    name = a_tag.string\n",
    "    if name[0].islower():\n",
    "        name = count + name\n",
    "        count = chr(ord(count) + 1)\n",
    "        if (count == 'X'):\n",
    "            count = chr(ord(count) + 1)\n",
    "    countries.append([name, (a_tag['href'][5:8])])\n"
   ]
  },
  {
   "cell_type": "code",
   "execution_count": 31,
   "metadata": {},
   "outputs": [
    {
     "name": "stdout",
     "output_type": "stream",
     "text": [
      "['Cambodia', 'Thailand', 'Indonesia', 'Bangkok', 'Jakarta', 'Phnom Penh', 'Surin', 'United States', 'China', 'Singapore', 'Vietnam', 'Washington', 'France', 'New York', 'South Korea', 'Daraa', 'Beijing']\n",
      "KHM\n",
      "THA\n",
      "IDN\n",
      "USA\n",
      "CHN\n",
      "SGP\n",
      "VNM\n",
      "FRA\n",
      "KOR\n"
     ]
    }
   ],
   "source": [
    "# https://biogeo.ucdavis.edu/data/gadm3.6/kmz/gadm36_AFG_0.kmz\n",
    "GT = geotag.Geotag()\n",
    "place_names = []\n",
    "\n",
    "for place in places:\n",
    "    tag = place[\"geotag\"]\n",
    "    if (tag in GT.path2entry):\n",
    "        tag = GT.path2entry[tag]\n",
    "        place_names.append(tag['name'])\n",
    "\n",
    "print(place_names)\n",
    "\n",
    "for place in place_names:\n",
    "    for country in countries:\n",
    "        if (place == country[0]):\n",
    "            print(country[1])\n",
    "            get_geojson(country[1])\n",
    "            \n",
    "\n",
    "def get_geojson(code):\n",
    "    url=\"https://biogeo.ucdavis.edu/data/gadm3.6/kmz/gadm36_\" + code + \"_0.kmz\"\n",
    "    urllib.request.urlretrieve(url, './geojsons/' + code + \".kmz\") \n",
    "\n"
   ]
  },
  {
   "cell_type": "code",
   "execution_count": 1,
   "metadata": {},
   "outputs": [
    {
     "ename": "SyntaxError",
     "evalue": "invalid syntax (<ipython-input-1-cda14c62b3f7>, line 5)",
     "output_type": "error",
     "traceback": [
      "\u001b[0;36m  File \u001b[0;32m\"<ipython-input-1-cda14c62b3f7>\"\u001b[0;36m, line \u001b[0;32m5\u001b[0m\n\u001b[0;31m    \"geojson\": get_geojson(item[])}\u001b[0m\n\u001b[0m                                ^\u001b[0m\n\u001b[0;31mSyntaxError\u001b[0m\u001b[0;31m:\u001b[0m invalid syntax\n"
     ]
    }
   ],
   "source": [
    "def geojson_list():\n",
    "    geojsons = []\n",
    "    for item in data:        \n",
    "        dict = {\"story_type\": item[\"story_type\"],\n",
    "                \"story_id\": item[\"story_id\"],\n",
    "                \"story_name\": item[\"story_name\"],\n",
    "                \"geotext\": item[\"geotext\"],\n",
    "                \"geotag\": item[\"geotag\"],\n",
    "                \"geojson\": get_geojson(item[\"geotext\"])}\n",
    "        geojsons.append(dict)\n",
    "        \n",
    "    with open('geojson_list.json', 'w') as f:\n",
    "        json.dump(geojsons, f)\n",
    "    "
   ]
  },
  {
   "cell_type": "code",
   "execution_count": null,
   "metadata": {},
   "outputs": [],
   "source": []
  }
 ],
 "metadata": {
  "kernelspec": {
   "display_name": "Python 3",
   "language": "python",
   "name": "python3"
  },
  "language_info": {
   "codemirror_mode": {
    "name": "ipython",
    "version": 3
   },
   "file_extension": ".py",
   "mimetype": "text/x-python",
   "name": "python",
   "nbconvert_exporter": "python",
   "pygments_lexer": "ipython3",
   "version": "3.7.0"
  }
 },
 "nbformat": 4,
 "nbformat_minor": 2
}
