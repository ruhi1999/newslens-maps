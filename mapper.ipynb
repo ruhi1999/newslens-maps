{
 "cells": [
  {
   "cell_type": "code",
   "execution_count": 34,
   "metadata": {},
   "outputs": [],
   "source": [
    "# run this script to create a map from the passed in file\n",
    "import folium\n",
    "import pandas\n",
    "import json\n",
    "from statistics import mean\n",
    "import os\n",
    "#set topic\n",
    "topic = \"171384\""
   ]
  },
  {
   "cell_type": "code",
   "execution_count": 44,
   "metadata": {},
   "outputs": [
    {
     "name": "stdout",
     "output_type": "stream",
     "text": [
      "Wien, 1010, Österreich\n",
      "Österreich\n",
      "Deutschland\n",
      "Neuss, Rhein-Kreis Neuss, Regierungsbezirk Düsseldorf, Nordrhein-Westfalen, Deutschland\n",
      "Berlin, 10117, Deutschland\n",
      "Graz, Steiermark, 8011, Österreich\n",
      "Düsseldorf, Regierungsbezirk Düsseldorf, Nordrhein-Westfalen, 40213, Deutschland\n",
      "Sobotka, okres Jičín, Královéhradecký kraj, Severovýchod, 50743, Česko\n",
      "France métropolitaine, France\n",
      "Swat River, سوات, Lower Dīr District, خیبر پختونخوا, 18800, ‏پاکستان‎\n",
      "سورية\n",
      "Shqipëria\n",
      "BiH / БиХ\n",
      "België / Belgique / Belgien\n",
      "Yugoslavia, Parroquia Santa Clara, Distrito Monagas, Anzoátegui, Venezuela\n",
      "Nordrhein-Westfalen, Deutschland\n",
      "Damaged, Wairakei, Taupo District, Waikato, New Zealand\n",
      "تونس\n",
      "Paris, Île-de-France, France métropolitaine, France\n",
      "Salzburg, 5020, Österreich\n",
      "España\n"
     ]
    }
   ],
   "source": [
    "from geopy.geocoders import Nominatim\n",
    "\n",
    "place_file = open(\"./initial-10/places_\"+topic+\".json\")\n",
    "place_data = json.load(place_file)\n",
    "\n",
    "geolocator = Nominatim(user_agent = \"NewsLens\")\n",
    "\n",
    "def color(count):\n",
    "    if count > 100:\n",
    "        return 'red'\n",
    "    elif count > 10:\n",
    "        return 'orange'\n",
    "    else:\n",
    "        return 'green'\n",
    "\n",
    "def lat_long(name):\n",
    "    loc = geolocator.geocode(name, timeout=2000)\n",
    "    if loc is not None:\n",
    "        coords = [loc.latitude, loc.longitude]\n",
    "        print(loc.address) \n",
    "        return coords\n",
    "    return \"*****not found: \"  + name \n",
    "\n",
    "\n",
    "#fg = folium.FeatureGroup(name = \"topic \"+topic)\n",
    "\n",
    "m = folium.Map(location=[0,0], zoom_start=3, tiles='Mapbox bright')\n",
    "markers = []\n",
    "\n",
    "places = {}\n",
    "lat = []\n",
    "long = []\n",
    "for item in place_data:\n",
    "    coords = lat_long(item['place_name'])\n",
    "    if type(coords) is str:\n",
    "        print(coords)\n",
    "        continue\n",
    "    lat += [coords[0]]\n",
    "    long += [coords[1]]\n",
    "    name = item['place_name']\n",
    "    count = item['count']\n",
    "    places.update({name: [count, lat_long]})\n",
    "    #fg.add_child(folium.Marker(location = coords, popup = folium.Popup(name),\n",
    "       # icon=folium.Icon(color=color(count),icon_color='green')))\n",
    "    markers += [folium.Marker(location = coords, popup = folium.Popup(name),\n",
    "        icon=folium.Icon(color=color(count),icon_color='green'))]\n"
   ]
  },
  {
   "cell_type": "code",
   "execution_count": 45,
   "metadata": {},
   "outputs": [],
   "source": [
    "m = folium.Map(location=[mean(lat), mean(long)], zoom_start=3, tiles='Mapbox bright')\n",
    "for mark in markers:\n",
    "    mark.add_to(m)\n",
    "#m.add_child(fg)\n",
    "\n",
    "\n"
   ]
  },
  {
   "cell_type": "code",
   "execution_count": null,
   "metadata": {},
   "outputs": [],
   "source": []
  },
  {
   "cell_type": "code",
   "execution_count": 46,
   "metadata": {},
   "outputs": [
    {
     "data": {
      "text/plain": [
       "<folium.map.LayerControl at 0x115ff29b0>"
      ]
     },
     "execution_count": 46,
     "metadata": {},
     "output_type": "execute_result"
    }
   ],
   "source": [
    "g = folium.FeatureGroup(name = \"topic 154145\")\n",
    "for file in os.listdir(\"./topics/\"+topic+\"/geojsons\"):\n",
    "    folium.GeoJson(\"./topics/\"+topic+\"/geojsons/\"+file).add_to(m)\n",
    "folium.LayerControl().add_to(m)"
   ]
  },
  {
   "cell_type": "code",
   "execution_count": 47,
   "metadata": {},
   "outputs": [],
   "source": [
    "m.save(outfile='./topics/'+topic+'/map' + topic + '.html')"
   ]
  },
  {
   "cell_type": "code",
   "execution_count": null,
   "metadata": {},
   "outputs": [],
   "source": []
  }
 ],
 "metadata": {
  "kernelspec": {
   "display_name": "Python 3",
   "language": "python",
   "name": "python3"
  },
  "language_info": {
   "codemirror_mode": {
    "name": "ipython",
    "version": 3
   },
   "file_extension": ".py",
   "mimetype": "text/x-python",
   "name": "python",
   "nbconvert_exporter": "python",
   "pygments_lexer": "ipython3",
   "version": "3.7.0"
  }
 },
 "nbformat": 4,
 "nbformat_minor": 2
}
