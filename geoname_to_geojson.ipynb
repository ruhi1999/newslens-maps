{
 "cells": [
  {
   "cell_type": "code",
   "execution_count": 10,
   "metadata": {},
   "outputs": [],
   "source": [
    "import json\n",
    "import folium\n",
    "import pandas\n",
    "import requests\n",
    "from bs4 import BeautifulSoup\n",
    "import urllib.request\n",
    "import geotag\n",
    "import kml2geojson \n",
    "import zipfile\n",
    "from xml.dom import minidom\n",
    "import os"
   ]
  },
  {
   "cell_type": "code",
   "execution_count": 11,
   "metadata": {},
   "outputs": [],
   "source": [
    "# https://community.esri.com/docs/DOC-8814-convert-kmz-to-kml\n",
    "# def kmz_to_kml(fname):\n",
    "#     \"\"\"save kmz to kml\"\"\"\n",
    "#     zf = zipfile.ZipFile(fname,'r')\n",
    "#     for fn in zf.namelist():\n",
    "#         if fn.endswith('.kml'):\n",
    "#             content = zf.read(fn)\n",
    "#             xmldoc = minidom.parseString(content)\n",
    "#             out_name = (fname.replace(\".kmz\",\".kml\")).replace(\"\\\\\",\"/\")\n",
    "#             out = open(out_name,'w')\n",
    "#             out.writelines(xmldoc.toxml())\n",
    "#             out.close()\n",
    "#         else:\n",
    "#             print(\"no kml file\")\n",
    "# def kmz_to_kml(fname):\n",
    "#     from zipfile import ZipFile\n",
    "#     kmz = ZipFile(fname, 'r')\n",
    "#     kml = kmz.open('doc.kml', 'r') #fname[0:3]+\n",
    "#     out_name = (fname.replace(\".kmz\", \".kml\"))\n",
    "    "
   ]
  },
  {
   "cell_type": "code",
   "execution_count": 12,
   "metadata": {},
   "outputs": [],
   "source": [
    "place_num = 171384\n",
    "place_file = open(\"initial-10/places_\"+(str)(place_num)+\".json\")\n",
    "places = json.load(place_file)\n",
    "\n",
    "# soup.\n",
    "# https://gadm.org/maps.html\n",
    "\n",
    "r = requests.get(\"https://gadm.org/maps.html\")\n",
    "htmlcontent = BeautifulSoup(r.content, \"html.parser\")\n",
    "countries = []\n",
    "country_containers = htmlcontent.find('div', class_=\"container-fluid main-container\").p.small\n",
    "# print(country_containers)\n",
    "\n",
    "country_codes = {}\n",
    "count = 'A'\n",
    "\n",
    "for a_tag in country_containers.find_all('a', href=True):\n",
    "    name = a_tag.string\n",
    "    if name[0].islower():\n",
    "        name = count + name\n",
    "        count = chr(ord(count) + 1)\n",
    "        if (count == 'X'):\n",
    "            count = chr(ord(count) + 1)\n",
    "    country_codes.update({name: (a_tag['href'][5:8])})\n"
   ]
  },
  {
   "cell_type": "code",
   "execution_count": 15,
   "metadata": {},
   "outputs": [],
   "source": [
    "def get_geojson(code):\n",
    "    url=\"https://biogeo.ucdavis.edu/data/gadm3.6/kmz/gadm36_\" + code + \"_0.kmz\"\n",
    "    urllib.request.urlretrieve(url, './kmz-files/' + code + \".kml.zip\")\n",
    "    print(code)\n",
    "    zf = zipfile.ZipFile('./kmz-files/' + code + \".kml.zip\")\n",
    "    zf.extractall('./kml-files')\n",
    "    zf.close()\n",
    "    kml2geojson.main.convert('./kml-files/gadm36_' + code + \"_0.kml\", \"./geojsons/\", separate_folders=False, style_type=None, style_filename='style.json')\n",
    "    "
   ]
  },
  {
   "cell_type": "code",
   "execution_count": 16,
   "metadata": {},
   "outputs": [
    {
     "name": "stdout",
     "output_type": "stream",
     "text": [
      "['Vienna', 'Austria', 'Germany', 'Neuss', 'Berlin', 'Graz', 'Duesseldorf', 'France', 'Syria', 'Albania', 'Belgium', 'North Rhine-Westphalia', 'Tunisia', 'Paris', 'Salzburg']\n",
      "AUT\n",
      "DEU\n",
      "FRA\n",
      "SYR\n",
      "ALB\n",
      "BEL\n",
      "TUN\n"
     ]
    }
   ],
   "source": [
    "# https://biogeo.ucdavis.edu/data/gadm3.6/kmz/gadm36_AFG_0.kmz\n",
    "GT = geotag.Geotag()\n",
    "place_names = []\n",
    "\n",
    "for place in places:\n",
    "    tag = place[\"geotag\"]\n",
    "    if (tag in GT.path2entry):\n",
    "        tag = GT.path2entry[tag]\n",
    "        place_names.append(tag['name'])\n",
    "\n",
    "print(place_names)\n",
    "\n",
    "for place in place_names:\n",
    "    if (place in country_codes.keys()):\n",
    "        country = country_codes.get(place)\n",
    "        get_geojson(country)\n",
    "            "
   ]
  },
  {
   "cell_type": "code",
   "execution_count": null,
   "metadata": {},
   "outputs": [],
   "source": [
    "#   {\n",
    "#     \"story_type\": \"World Affairs\",\n",
    "#     \"story_id\": 186150,\n",
    "#     \"story_name\": \"Venezuela opposition leader\",\n",
    "#     \"geotext\": \"Venezuela\",\n",
    "#     \"geotag\": \"VE\"\n",
    "#   }\n",
    "\n",
    "def geojson_list():\n",
    "    geojsons = []\n",
    "    for item in os.listdir('./geojsons'): \n",
    "        file = os.path.dirname(item)\n",
    "        code = file[-7:-4]\n",
    "        dict_ =    {\"story_type\": \"World Affairs\",\n",
    "                    \"story_id\": place_num,\n",
    "                    \"story_name\": \"Venezuela opposition leader\",\n",
    "                    \"geotext\": country_codes.keys()[country_codes.values().index(code)],\n",
    "                    \"geotag\": code,\n",
    "                    \"geojson_file\": file\n",
    "                   } \n",
    "        geojsons.append(dict_)\n",
    "        \n",
    "    with open('geojson_list.json', 'w') as f:\n",
    "        json.dump(geojsons, f)\n",
    "    "
   ]
  },
  {
   "cell_type": "code",
   "execution_count": null,
   "metadata": {},
   "outputs": [],
   "source": []
  }
 ],
 "metadata": {
  "kernelspec": {
   "display_name": "Python 3",
   "language": "python",
   "name": "python3"
  },
  "language_info": {
   "codemirror_mode": {
    "name": "ipython",
    "version": 3
   },
   "file_extension": ".py",
   "mimetype": "text/x-python",
   "name": "python",
   "nbconvert_exporter": "python",
   "pygments_lexer": "ipython3",
   "version": "3.7.0"
  }
 },
 "nbformat": 4,
 "nbformat_minor": 2
}
