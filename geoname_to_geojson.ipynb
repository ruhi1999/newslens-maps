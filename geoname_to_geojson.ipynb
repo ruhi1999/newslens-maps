{
 "cells": [
  {
   "cell_type": "code",
   "execution_count": 4,
   "metadata": {},
   "outputs": [],
   "source": [
    "import json\n",
    "import folium\n",
    "import pandas\n",
    "import requests\n",
    "from bs4 import BeautifulSoup\n",
    "import urllib.request\n",
    "import geotag\n",
    "import kml2geojson \n",
    "import zipfile\n",
    "from xml.dom import minidom\n",
    "import os"
   ]
  },
  {
   "cell_type": "code",
   "execution_count": 5,
   "metadata": {},
   "outputs": [],
   "source": [
    "# https://community.esri.com/docs/DOC-8814-convert-kmz-to-kml\n",
    "def kmz_to_kml(fname):\n",
    "    \"\"\"save kmz to kml\"\"\"\n",
    "    zf = zipfile.ZipFile(fname,'r')\n",
    "    for fn in zf.namelist():\n",
    "        if fn.endswith('.kml'):\n",
    "            content = zf.read(fn)\n",
    "            xmldoc = minidom.parseString(content)\n",
    "            out_name = (fname.replace(\".kmz\",\".kml\")).replace(\"\\\\\",\"/\")\n",
    "            out = open(out_name,'w')\n",
    "            out.writelines(xmldoc.toxml())\n",
    "            out.close()\n",
    "        else:\n",
    "            print(\"no kml file\")"
   ]
  },
  {
   "cell_type": "code",
   "execution_count": 6,
   "metadata": {},
   "outputs": [
    {
     "ename": "TypeError",
     "evalue": "can only concatenate str (not \"int\") to str",
     "output_type": "error",
     "traceback": [
      "\u001b[0;31m---------------------------------------------------------------------------\u001b[0m",
      "\u001b[0;31mTypeError\u001b[0m                                 Traceback (most recent call last)",
      "\u001b[0;32m<ipython-input-6-f932b8b6cc81>\u001b[0m in \u001b[0;36m<module>\u001b[0;34m()\u001b[0m\n\u001b[1;32m      1\u001b[0m \u001b[0mplace_num\u001b[0m \u001b[0;34m=\u001b[0m \u001b[0;36m171384\u001b[0m\u001b[0;34m\u001b[0m\u001b[0m\n\u001b[0;32m----> 2\u001b[0;31m \u001b[0mplace_file\u001b[0m \u001b[0;34m=\u001b[0m \u001b[0mopen\u001b[0m\u001b[0;34m(\u001b[0m\u001b[0;34m\"initial-10/places_\"\u001b[0m\u001b[0;34m+\u001b[0m\u001b[0mplace_num\u001b[0m\u001b[0;34m+\u001b[0m\u001b[0;34m\".json\"\u001b[0m\u001b[0;34m)\u001b[0m\u001b[0;34m\u001b[0m\u001b[0m\n\u001b[0m\u001b[1;32m      3\u001b[0m \u001b[0mplaces\u001b[0m \u001b[0;34m=\u001b[0m \u001b[0mjson\u001b[0m\u001b[0;34m.\u001b[0m\u001b[0mload\u001b[0m\u001b[0;34m(\u001b[0m\u001b[0mplace_file\u001b[0m\u001b[0;34m)\u001b[0m\u001b[0;34m\u001b[0m\u001b[0m\n\u001b[1;32m      4\u001b[0m \u001b[0;34m\u001b[0m\u001b[0m\n\u001b[1;32m      5\u001b[0m \u001b[0;31m# soup.\u001b[0m\u001b[0;34m\u001b[0m\u001b[0;34m\u001b[0m\u001b[0m\n",
      "\u001b[0;31mTypeError\u001b[0m: can only concatenate str (not \"int\") to str"
     ]
    }
   ],
   "source": [
    "place_num = 171384\n",
    "place_file = open(\"initial-10/places_\"+place_num+\".json\")\n",
    "places = json.load(place_file)\n",
    "\n",
    "# soup.\n",
    "# https://gadm.org/maps.html\n",
    "\n",
    "r = requests.get(\"https://gadm.org/maps.html\")\n",
    "htmlcontent = BeautifulSoup(r.content, \"html.parser\")\n",
    "countries = []\n",
    "country_containers = htmlcontent.find('div', class_=\"container-fluid main-container\").p.small\n",
    "# print(country_containers)\n",
    "\n",
    "country_codes = {}\n",
    "count = 'A'\n",
    "\n",
    "for a_tag in country_containers.find_all('a', href=True):\n",
    "    name = a_tag.string\n",
    "    if name[0].islower():\n",
    "        name = count + name\n",
    "        count = chr(ord(count) + 1)\n",
    "        if (count == 'X'):\n",
    "            count = chr(ord(count) + 1)\n",
    "    country_codes.update({name: (a_tag['href'][5:8])})\n"
   ]
  },
  {
   "cell_type": "code",
   "execution_count": null,
   "metadata": {},
   "outputs": [],
   "source": [
    "def get_geojson(code):\n",
    "    url=\"https://biogeo.ucdavis.edu/data/gadm3.6/kmz/gadm36_\" + code + \"_0.kmz\"\n",
    "    urllib.request.urlretrieve(url, './kmz-files/' + code + \".kmz\")\n",
    "    print(code)\n",
    "    kmz_to_kml('./kmz-files/' + code + \".kmz\")\n",
    "    kml2geojson.main.convert('./kmz-files/' + code + \".kml\", \"./geojsons/\", separate_folders=False, style_type=None, style_filename='style.json')\n",
    "    os.remove('./kmz-files/' + code + \".kmz\")\n",
    "    "
   ]
  },
  {
   "cell_type": "code",
   "execution_count": null,
   "metadata": {},
   "outputs": [],
   "source": [
    "# https://biogeo.ucdavis.edu/data/gadm3.6/kmz/gadm36_AFG_0.kmz\n",
    "GT = geotag.Geotag()\n",
    "place_names = []\n",
    "\n",
    "for place in places:\n",
    "    tag = place[\"geotag\"]\n",
    "    if (tag in GT.path2entry):\n",
    "        tag = GT.path2entry[tag]\n",
    "        place_names.append(tag['name'])\n",
    "\n",
    "print(place_names)\n",
    "\n",
    "for place in place_names:\n",
    "    if (place in country_codes.keys()):\n",
    "        country = country_codes.get(place)\n",
    "        get_geojson(country)\n",
    "            "
   ]
  },
  {
   "cell_type": "code",
   "execution_count": null,
   "metadata": {},
   "outputs": [],
   "source": [
    "#   {\n",
    "#     \"story_type\": \"World Affairs\",\n",
    "#     \"story_id\": 186150,\n",
    "#     \"story_name\": \"Venezuela opposition leader\",\n",
    "#     \"geotext\": \"Venezuela\",\n",
    "#     \"geotag\": \"VE\"\n",
    "#   }\n",
    "\n",
    "def geojson_list():\n",
    "    geojsons = []\n",
    "    for item in os.listdir('./geojsons'): \n",
    "        file = os.path.dirname(item)\n",
    "        code = file[-7:-4]\n",
    "        dict_ =    {\"story_type\": \"World Affairs\",\n",
    "                    \"story_id\": place_num,\n",
    "                    \"story_name\": \"Venezuela opposition leader\",\n",
    "                    \"geotext\": country_codes.keys()[country_codes.values().index(code)],\n",
    "                    \"geotag\": code,\n",
    "                    \"geojson_file\": file\n",
    "                   } \n",
    "        geojsons.append(dict_)\n",
    "        \n",
    "    with open('geojson_list.json', 'w') as f:\n",
    "        json.dump(geojsons, f)\n",
    "    "
   ]
  },
  {
   "cell_type": "code",
   "execution_count": null,
   "metadata": {},
   "outputs": [],
   "source": []
  }
 ],
 "metadata": {
  "kernelspec": {
   "display_name": "Python 3",
   "language": "python",
   "name": "python3"
  },
  "language_info": {
   "codemirror_mode": {
    "name": "ipython",
    "version": 3
   },
   "file_extension": ".py",
   "mimetype": "text/x-python",
   "name": "python",
   "nbconvert_exporter": "python",
   "pygments_lexer": "ipython3",
   "version": "3.7.0"
  }
 },
 "nbformat": 4,
 "nbformat_minor": 2
}
