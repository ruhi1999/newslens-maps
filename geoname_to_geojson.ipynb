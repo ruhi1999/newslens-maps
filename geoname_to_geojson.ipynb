{
 "cells": [
  {
   "cell_type": "code",
   "execution_count": null,
   "metadata": {},
   "outputs": [],
   "source": [
    "# –\tgeoJSON converter: github.com/wavded/ogre using KMZ\n",
    "# –\tmaps data: gadm.org/maps.html\n",
    "# –\tscript: take geoname id, turn into geojson file\n",
    "# –\tdownload file for each country based on file url\n",
    "# –\tuse search api to closely match\n",
    "\n",
    "# {\n",
    "#    \"story_type\": \"World Affairs\",\n",
    "#   \"story_id\": 186150,\n",
    "#   \"story_name\": \"Venezuela opposition leader\",\n",
    "#   \"geotext\": \"Venezuela\",\n",
    "#    \"geotag\": \"VE\"\n",
    "#  },\n",
    "\n",
    "import json\n",
    "import folium\n",
    "import pandas\n",
    "\n",
    "place_file = open()\n",
    "data = json.load(place_file)"
   ]
  },
  {
   "cell_type": "code",
   "execution_count": 1,
   "metadata": {},
   "outputs": [
    {
     "ename": "SyntaxError",
     "evalue": "invalid syntax (<ipython-input-1-cda14c62b3f7>, line 5)",
     "output_type": "error",
     "traceback": [
      "\u001b[0;36m  File \u001b[0;32m\"<ipython-input-1-cda14c62b3f7>\"\u001b[0;36m, line \u001b[0;32m5\u001b[0m\n\u001b[0;31m    \"geojson\": get_geojson(item[])}\u001b[0m\n\u001b[0m                                ^\u001b[0m\n\u001b[0;31mSyntaxError\u001b[0m\u001b[0;31m:\u001b[0m invalid syntax\n"
     ]
    }
   ],
   "source": [
    "def geojson_list():\n",
    "    geojsons = []\n",
    "    for item in data:        \n",
    "        dict = {\"story_type\": item[\"story_type\"],\n",
    "                \"story_id\": item[\"story_id\"],\n",
    "                \"story_name\": item[\"story_name\"],\n",
    "                \"geotext\": item[\"geotext\"],\n",
    "                \"geotag\": item[\"geotag\"],\n",
    "                \"geojson\": get_geojson(item[\"geotext\"])}\n",
    "        geojsons.append(dict)\n",
    "        \n",
    "    with open('geojson_list.json', 'w') as f:\n",
    "        json.dump(geojsons, f)\n",
    "        \n",
    "\n",
    "def get_geojson(item):\n",
    "    "
   ]
  },
  {
   "cell_type": "code",
   "execution_count": null,
   "metadata": {},
   "outputs": [],
   "source": []
  }
 ],
 "metadata": {
  "kernelspec": {
   "display_name": "Python 3",
   "language": "python",
   "name": "python3"
  },
  "language_info": {
   "codemirror_mode": {
    "name": "ipython",
    "version": 3
   },
   "file_extension": ".py",
   "mimetype": "text/x-python",
   "name": "python",
   "nbconvert_exporter": "python",
   "pygments_lexer": "ipython3",
   "version": "3.7.0"
  }
 },
 "nbformat": 4,
 "nbformat_minor": 2
}
