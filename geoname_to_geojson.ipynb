{
 "cells": [
  {
   "cell_type": "code",
   "execution_count": 19,
   "metadata": {},
   "outputs": [],
   "source": [
    "import json\n",
    "import folium\n",
    "import pandas\n",
    "import requests\n",
    "from bs4 import BeautifulSoup\n",
    "import urllib.request\n",
    "import geotag\n",
    "import kml2geojson \n",
    "import zipfile\n",
    "from xml.dom import minidom\n",
    "import os"
   ]
  },
  {
   "cell_type": "code",
   "execution_count": null,
   "metadata": {},
   "outputs": [],
   "source": [
    "    "
   ]
  },
  {
   "cell_type": "code",
   "execution_count": 20,
   "metadata": {},
   "outputs": [],
   "source": [
    "topic = \"171384\"\n",
    "place_file = open(\"initial-10/places_\"+topic+\".json\")\n",
    "places = json.load(place_file)\n",
    "path = (\"./topics/\" + topic)\n",
    "os.mkdir(path)\n",
    "os.mkdir(path + \"/kmz-files\")\n",
    "os.mkdir(path + \"/kml-files\")\n",
    "os.mkdir(path + \"/geojsons\")\n",
    "\n",
    "# soup.\n",
    "# https://gadm.org/maps.html\n",
    "\n",
    "r = requests.get(\"https://gadm.org/maps.html\")\n",
    "htmlcontent = BeautifulSoup(r.content, \"html.parser\")\n",
    "countries = []\n",
    "country_containers = htmlcontent.find('div', class_=\"container-fluid main-container\").p.small\n",
    "# print(country_containers)\n",
    "\n",
    "country_codes = {}\n",
    "count = 'A'\n",
    "\n",
    "for a_tag in country_containers.find_all('a', href=True):\n",
    "    name = a_tag.string\n",
    "    if name[0].islower():\n",
    "        name = count + name\n",
    "        count = chr(ord(count) + 1)\n",
    "        if (count == 'X'):\n",
    "            count = chr(ord(count) + 1)\n",
    "    country_codes.update({name: (a_tag['href'][5:8])})\n"
   ]
  },
  {
   "cell_type": "code",
   "execution_count": 21,
   "metadata": {},
   "outputs": [],
   "source": [
    "def get_geojson(code):\n",
    "    url=\"https://biogeo.ucdavis.edu/data/gadm3.6/kmz/gadm36_\" + code + \"_0.kmz\"\n",
    "    \n",
    "    urllib.request.urlretrieve(url, path + \"/kmz-files/\" + code + \".kml.zip\")\n",
    "    print(code)\n",
    "    zf = zipfile.ZipFile(path + \"/kmz-files/\" + code + \".kml.zip\")\n",
    "    \n",
    "    zf.extractall(path + \"/kml-files/\")\n",
    "    zf.close()\n",
    "    kml2geojson.main.convert(path + '/kml-files/gadm36_' + code + \"_0.kml\", path + \"/geojsons/\", separate_folders=False, style_type=None, style_filename='style.json')\n",
    "    "
   ]
  },
  {
   "cell_type": "code",
   "execution_count": 22,
   "metadata": {},
   "outputs": [
    {
     "name": "stdout",
     "output_type": "stream",
     "text": [
      "['Vienna', 'Austria', 'Germany', 'Neuss', 'Berlin', 'Graz', 'Duesseldorf', 'France', 'Syria', 'Albania', 'Belgium', 'North Rhine-Westphalia', 'Tunisia', 'Paris', 'Salzburg']\n",
      "AUT\n",
      "DEU\n",
      "FRA\n",
      "SYR\n",
      "ALB\n",
      "BEL\n",
      "TUN\n"
     ]
    }
   ],
   "source": [
    "# https://biogeo.ucdavis.edu/data/gadm3.6/kmz/gadm36_AFG_0.kmz\n",
    "GT = geotag.Geotag()\n",
    "place_names = []\n",
    "\n",
    "for place in places:\n",
    "    tag = place[\"geotag\"]\n",
    "    if (tag in GT.path2entry):\n",
    "        tag = GT.path2entry[tag]\n",
    "        place_names.append(tag['name'])\n",
    "\n",
    "print(place_names)\n",
    "\n",
    "for place in place_names:\n",
    "    if (place in country_codes.keys()):\n",
    "        country = country_codes.get(place)\n",
    "        get_geojson(country)\n",
    "            "
   ]
  },
  {
   "cell_type": "code",
   "execution_count": 23,
   "metadata": {},
   "outputs": [],
   "source": []
  },
  {
   "cell_type": "code",
   "execution_count": null,
   "metadata": {},
   "outputs": [],
   "source": []
  }
 ],
 "metadata": {
  "kernelspec": {
   "display_name": "Python 3",
   "language": "python",
   "name": "python3"
  },
  "language_info": {
   "codemirror_mode": {
    "name": "ipython",
    "version": 3
   },
   "file_extension": ".py",
   "mimetype": "text/x-python",
   "name": "python",
   "nbconvert_exporter": "python",
   "pygments_lexer": "ipython3",
   "version": "3.7.0"
  }
 },
 "nbformat": 4,
 "nbformat_minor": 2
}
