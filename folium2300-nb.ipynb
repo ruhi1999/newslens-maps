{
 "cells": [
  {
   "cell_type": "code",
   "execution_count": 5,
   "metadata": {},
   "outputs": [],
   "source": [
    "# run this script to create a map from the passed in file\n",
    "import folium\n",
    "import pandas\n",
    "import json\n",
    "from statistics import mean"
   ]
  },
  {
   "cell_type": "code",
   "execution_count": 6,
   "metadata": {},
   "outputs": [],
   "source": [
    "from geopy.geocoders import Nominatim"
   ]
  },
  {
   "cell_type": "code",
   "execution_count": 7,
   "metadata": {},
   "outputs": [],
   "source": [
    "place_file = open(\"initial-10/places_23000.json\")"
   ]
  },
  {
   "cell_type": "code",
   "execution_count": 8,
   "metadata": {},
   "outputs": [],
   "source": [
    "place_data = json.load(place_file)"
   ]
  },
  {
   "cell_type": "code",
   "execution_count": 9,
   "metadata": {},
   "outputs": [],
   "source": [
    "geolocator = Nominatim(user_agent = \"NewsLens\")\n",
    "\n",
    "mapper = folium.Map(location=[45.5236, -122.6750])\n",
    "topic = 2300"
   ]
  },
  {
   "cell_type": "code",
   "execution_count": 10,
   "metadata": {},
   "outputs": [],
   "source": [
    "def color(count):\n",
    "    if count > 100:\n",
    "        return 'red'\n",
    "    elif count > 10:\n",
    "        return 'orange'\n",
    "    else:\n",
    "        return 'green'\n",
    "\n",
    "def lat_long(name):\n",
    "    loc = geolocator.geocode(name, timeout=2000)\n",
    "    if loc is not None:\n",
    "        coords = [loc.latitude, loc.longitude]\n",
    "        print(loc.address) \n",
    "        return coords\n",
    "    return \"not found: \"  + name "
   ]
  },
  {
   "cell_type": "code",
   "execution_count": 12,
   "metadata": {},
   "outputs": [
    {
     "name": "stdout",
     "output_type": "stream",
     "text": [
      "ព្រះរាជាណាចក្រ​កម្ពុជា\n",
      "ประเทศไทย\n",
      "Thai, 13, Chmielna, VI, Śródmieście, Warszawa, mazowieckie, 00-021, RP\n",
      "Indonesia\n",
      "กรุงเทพมหานคร, ประเทศไทย\n",
      "จังหวัดสุรินทร์, ประเทศไทย\n",
      "JKT, Indonesia\n",
      "រាជធានីភ្នំពេញ, ខណ្ឌដូនពេញ, រាជធានីភ្នំពេញ, 11213, ព្រះរាជាណាចក្រ​កម្ពុជា\n",
      "Sovereignty Circle, Bluffdale, Salt Lake County, Utah, 84065, USA\n",
      "ខេត្តឧត្ដរមានជ័យ, ព្រះរាជាណាចក្រ​កម្ពុជា\n",
      "จังหวัดสุรินทร์, ประเทศไทย\n",
      "USA\n",
      "中国\n",
      "Singapore, Central, 178957, Singapore\n",
      "Việt Nam\n",
      "บ้านประวิทย์, จังหวัดสุรินทร์, ประเทศไทย\n",
      "Den Haag, Zuid-Holland, Nederland\n",
      "Washington, D.C., USA\n",
      "France métropolitaine, France\n",
      "NYC, New York, USA\n",
      "France métropolitaine, France\n",
      "จังหวัดสุรินทร์, ประเทศไทย\n",
      "대한민국\n",
      "not found: Oddar Meanchey Province\n",
      "Angkor, 国道486号, 西条中央, 東広島市, 広島県, 中国地方, 739-0041, 日本\n",
      "not found: Ta Krabey plus Preah\n",
      "Planned, الوكرة, 30205, ‏قطر‎\n",
      "درعا, سوريا\n",
      "北京市, 东城区, 北京市, 100010, 中国\n",
      "Battles, Santa Barbara County, California, CA 93454, USA\n"
     ]
    }
   ],
   "source": [
    "fg = folium.FeatureGroup(name = \"topic 23000\")\n",
    "\n",
    "places = {}\n",
    "lat = []\n",
    "long = []\n",
    "for item in place_data:\n",
    "    coords = lat_long(item['place_name'])\n",
    "    if type(coords) is str:\n",
    "        print(coords)\n",
    "        continue\n",
    "    lat += [coords[0]]\n",
    "    long += [coords[1]]\n",
    "    name = item['place_name']\n",
    "    count = item['count']\n",
    "    places.update({name: [count, lat_long]})\n",
    "    fg.add_child(folium.Marker(location = coords, popup = folium.Popup(name),\n",
    "        icon=folium.Icon(color=color(count),icon_color='green')))"
   ]
  },
  {
   "cell_type": "code",
   "execution_count": 13,
   "metadata": {},
   "outputs": [
    {
     "ename": "TypeError",
     "evalue": "can only concatenate str (not \"int\") to str",
     "output_type": "error",
     "traceback": [
      "\u001b[0;31m---------------------------------------------------------------------------\u001b[0m",
      "\u001b[0;31mTypeError\u001b[0m                                 Traceback (most recent call last)",
      "\u001b[0;32m<ipython-input-13-1934c2d42a63>\u001b[0m in \u001b[0;36m<module>\u001b[0;34m()\u001b[0m\n\u001b[1;32m      4\u001b[0m \u001b[0;34m\u001b[0m\u001b[0m\n\u001b[1;32m      5\u001b[0m \u001b[0mmapper\u001b[0m\u001b[0;34m.\u001b[0m\u001b[0madd_child\u001b[0m\u001b[0;34m(\u001b[0m\u001b[0mfolium\u001b[0m\u001b[0;34m.\u001b[0m\u001b[0mLayerControl\u001b[0m\u001b[0;34m(\u001b[0m\u001b[0;34m)\u001b[0m\u001b[0;34m)\u001b[0m\u001b[0;34m\u001b[0m\u001b[0m\n\u001b[0;32m----> 6\u001b[0;31m \u001b[0mmapper\u001b[0m\u001b[0;34m.\u001b[0m\u001b[0msave\u001b[0m\u001b[0;34m(\u001b[0m\u001b[0moutfile\u001b[0m\u001b[0;34m=\u001b[0m\u001b[0;34m'map'\u001b[0m \u001b[0;34m+\u001b[0m \u001b[0mtopic\u001b[0m \u001b[0;34m+\u001b[0m \u001b[0;34m'.html'\u001b[0m\u001b[0;34m)\u001b[0m\u001b[0;34m\u001b[0m\u001b[0m\n\u001b[0m",
      "\u001b[0;31mTypeError\u001b[0m: can only concatenate str (not \"int\") to str"
     ]
    }
   ],
   "source": [
    "mapper = folium.Map(location=[mean(lat), mean(long)], zoom_start=6, tiles='Mapbox bright')\n",
    "\n",
    "mapper.add_child(fg)\n",
    "\n",
    "mapper.add_child(folium.LayerControl())\n",
    "mapper.save(outfile='map' + topic + '.html')\n"
   ]
  },
  {
   "cell_type": "code",
   "execution_count": null,
   "metadata": {},
   "outputs": [],
   "source": []
  }
 ],
 "metadata": {
  "kernelspec": {
   "display_name": "Python 3",
   "language": "python",
   "name": "python3"
  },
  "language_info": {
   "codemirror_mode": {
    "name": "ipython",
    "version": 3
   },
   "file_extension": ".py",
   "mimetype": "text/x-python",
   "name": "python",
   "nbconvert_exporter": "python",
   "pygments_lexer": "ipython3",
   "version": "3.7.0"
  }
 },
 "nbformat": 4,
 "nbformat_minor": 2
}
