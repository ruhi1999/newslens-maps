{
 "cells": [
  {
   "cell_type": "code",
   "execution_count": 21,
   "metadata": {},
   "outputs": [],
   "source": [
    "import subprocess\n",
    "import os"
   ]
  },
  {
   "cell_type": "code",
   "execution_count": 30,
   "metadata": {},
   "outputs": [
    {
     "name": "stdout",
     "output_type": "stream",
     "text": [
      "b''\n",
      "b''\n",
      "b''\n",
      "b''\n",
      "b''\n",
      "b''\n",
      "b''\n"
     ]
    }
   ],
   "source": [
    "\n",
    "topic = \"171384\"\n",
    "path = (\"./topics/\" + topic)\n",
    "#os.mkdir(path + \"/geojsons\")\n",
    "shp_files = path+\"/shp-files\"\n",
    "\n",
    "for shp in os.listdir(shp_files):\n",
    "    if \"shp\" in shp and \"0\" in shp:\n",
    "        print(subprocess.check_output([\"mapshaper\", shp_files+\"/\"+shp, \"-simplify\", \"0.3%\", \"-o\", \"format=geojson\", path+\"/geojsons/\"+shp+\".json\"]))\n",
    "        \n",
    "        \n",
    "        \n",
    "        \n",
    "        \n",
    "        "
   ]
  },
  {
   "cell_type": "code",
   "execution_count": 24,
   "metadata": {},
   "outputs": [
    {
     "name": "stdout",
     "output_type": "stream",
     "text": [
      "[i] [gadm36_ESP_0.shp] .dbf file is missing - shapes imported without attribute data.\n",
      "[o] Wrote gadm36_ESP_0.json\n"
     ]
    }
   ],
   "source": [
    "!mapshaper gadm36_ESP_0.shp -simplify 10% -o format=geojson"
   ]
  },
  {
   "cell_type": "code",
   "execution_count": null,
   "metadata": {},
   "outputs": [],
   "source": []
  }
 ],
 "metadata": {
  "kernelspec": {
   "display_name": "Python 3",
   "language": "python",
   "name": "python3"
  },
  "language_info": {
   "codemirror_mode": {
    "name": "ipython",
    "version": 3
   },
   "file_extension": ".py",
   "mimetype": "text/x-python",
   "name": "python",
   "nbconvert_exporter": "python",
   "pygments_lexer": "ipython3",
   "version": "3.7.0"
  }
 },
 "nbformat": 4,
 "nbformat_minor": 2
}
